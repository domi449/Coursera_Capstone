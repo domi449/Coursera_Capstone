{
 "cells": [
  {
   "cell_type": "markdown",
   "metadata": {},
   "source": [
    "<h1> Data Science Capstone Project Battle of the Neighborhoods </h1>"
   ]
  },
  {
   "cell_type": "markdown",
   "metadata": {},
   "source": [
    "<h4> Introduction, Description of the problem and background <h4>"
   ]
  },
  {
   "cell_type": "markdown",
   "metadata": {},
   "source": [
    "<h5> <strong> Introduction </strong> </h5>"
   ]
  },
  {
   "cell_type": "markdown",
   "metadata": {},
   "source": [
    "<p> New York City is a thriving, vibrant city that is known for being the cultural, financial and creative hub of the United States. The City attracts a constant influx of new businesses and is home to many well-established global companies and institutions. <p>"
   ]
  },
  {
   "cell_type": "markdown",
   "metadata": {},
   "source": [
    "<p>Because of this, however, the cost of doing business in the city is extremely high and any new business venture will have to analyze and evaluate the situation in as much detail as possible. By strategically analyzing the market, the new business venture will be able to minimize their risk as much as possible and hopefully, establish themselves in the city.</p>"
   ]
  },
  {
   "cell_type": "markdown",
   "metadata": {},
   "source": [
    "<h5> <strong> Description </strong> </h5>"
   ]
  },
  {
   "cell_type": "markdown",
   "metadata": {},
   "source": [
    "<p> New York City is known for their wide variety of international cuisines and is even the home of some original dishes only found in the city. As a restaurant looking to open their first branch in the city, it will need to analyze the overarching conditions as deeply as possible. The restaurant will need to consider factors such as: </p>"
   ]
  },
  {
   "cell_type": "markdown",
   "metadata": {},
   "source": [
    "<ol> \n",
    "<li> NYC demographics and population </li>\n",
    "<li> Competitor location and analysis </li>\n",
    "    <li> Supply of ingredients nearby </li>\n",
    "    <li> Proximity of entertainment venues, parks, gyms etc. </li>\n",
    "    <li> Segmentation of the different neighborhoods </li>\n",
    "    <li> Cusine served and popularity in each neighborhood </li>\n",
    "    \n",
    "</ol>"
   ]
  },
  {
   "cell_type": "markdown",
   "metadata": {},
   "source": [
    "<p> Choosing the location of the new restaurant based on these factors is the main goal of this research project. "
   ]
  },
  {
   "cell_type": "markdown",
   "metadata": {},
   "source": [
    "<h4> Data Description </h4>"
   ]
  },
  {
   "cell_type": "markdown",
   "metadata": {},
   "source": [
    "<p> The data that I will collect and analyze for this project will include: </p>"
   ]
  },
  {
   "cell_type": "markdown",
   "metadata": {},
   "source": [
    "<ol> \n",
    "<li> NYC borough and neighborhood dataset  </li>\n",
    "<li> DOHMH Farmers Markets and Food Boxes dataset </li>\n",
    "<li> NYC Population </li>\n",
    "<li> NYC Demographic </li>\n",
    "<li> NYC Cuisines </li>\n",
    "<li> NYC eographical coordinates data  </li>\n",
    "</ol>"
   ]
  },
  {
   "cell_type": "markdown",
   "metadata": {},
   "source": [
    "<h4> Target Audience and Stakeholders</h4>"
   ]
  },
  {
   "cell_type": "code",
   "execution_count": null,
   "metadata": {},
   "outputs": [],
   "source": []
  }
 ],
 "metadata": {
  "kernelspec": {
   "display_name": "Python",
   "language": "python",
   "name": "conda-env-python-py"
  },
  "language_info": {
   "codemirror_mode": {
    "name": "ipython",
    "version": 3
   },
   "file_extension": ".py",
   "mimetype": "text/x-python",
   "name": "python",
   "nbconvert_exporter": "python",
   "pygments_lexer": "ipython3",
   "version": "3.6.10"
  }
 },
 "nbformat": 4,
 "nbformat_minor": 4
}
